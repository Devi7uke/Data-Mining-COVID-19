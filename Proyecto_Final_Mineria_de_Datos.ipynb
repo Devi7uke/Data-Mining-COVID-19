{
  "cells": [
    {
      "attachments": {},
      "cell_type": "markdown",
      "metadata": {
        "id": "kw7xFq7Vcie6"
      },
      "source": [
        "## Import libraries"
      ]
    },
    {
      "cell_type": "code",
      "execution_count": 1,
      "metadata": {
        "colab": {
          "base_uri": "https://localhost:8080/"
        },
        "id": "SLtZNiD5QZJD",
        "outputId": "008aa219-01a4-4e42-b108-0e9be03b0cbc"
      },
      "outputs": [],
      "source": [
        "import pandas as pd\n",
        "import numpy as np\n",
        "import matplotlib.pyplot as plt\n",
        "from sklearn import tree\n",
        "from sklearn.model_selection import train_test_split\n",
        "from sklearn.metrics import confusion_matrix\n",
        "from sklearn.metrics import ConfusionMatrixDisplay\n",
        "import math"
      ]
    },
    {
      "attachments": {},
      "cell_type": "markdown",
      "metadata": {
        "id": "R5iCJjYPcsO2"
      },
      "source": [
        "## Data initialization\n",
        "### Read input data"
      ]
    },
    {
      "cell_type": "code",
      "execution_count": 2,
      "metadata": {
        "id": "Y_dnKSWwp0xK"
      },
      "outputs": [],
      "source": [
        "data = pd.read_csv('COVID19MEXICO2021.csv', low_memory=False);"
      ]
    },
    {
      "attachments": {},
      "cell_type": "markdown",
      "metadata": {
        "id": "OoGDXCjXc221"
      },
      "source": [
        "Show column names, only certain columns will be used"
      ]
    },
    {
      "cell_type": "code",
      "execution_count": 3,
      "metadata": {
        "colab": {
          "base_uri": "https://localhost:8080/"
        },
        "id": "fzyZE4C0smS8",
        "outputId": "08a99ae1-7c95-485b-834d-db0253c81df4"
      },
      "outputs": [
        {
          "data": {
            "text/plain": [
              "Index(['FECHA_ACTUALIZACION', 'ID_REGISTRO', 'ORIGEN', 'SECTOR', 'ENTIDAD_UM',\n",
              "       'SEXO', 'ENTIDAD_NAC', 'ENTIDAD_RES', 'MUNICIPIO_RES', 'TIPO_PACIENTE',\n",
              "       'FECHA_INGRESO', 'FECHA_SINTOMAS', 'FECHA_DEF', 'INTUBADO', 'NEUMONIA',\n",
              "       'EDAD', 'NACIONALIDAD', 'EMBARAZO', 'HABLA_LENGUA_INDIG', 'INDIGENA',\n",
              "       'DIABETES', 'EPOC', 'ASMA', 'INMUSUPR', 'HIPERTENSION', 'OTRA_COM',\n",
              "       'CARDIOVASCULAR', 'OBESIDAD', 'RENAL_CRONICA', 'TABAQUISMO',\n",
              "       'OTRO_CASO', 'TOMA_MUESTRA_LAB', 'RESULTADO_LAB',\n",
              "       'TOMA_MUESTRA_ANTIGENO', 'RESULTADO_ANTIGENO', 'CLASIFICACION_FINAL',\n",
              "       'MIGRANTE', 'PAIS_NACIONALIDAD', 'PAIS_ORIGEN', 'UCI'],\n",
              "      dtype='object')"
            ]
          },
          "execution_count": 3,
          "metadata": {},
          "output_type": "execute_result"
        }
      ],
      "source": [
        "data.columns"
      ]
    },
    {
      "attachments": {},
      "cell_type": "markdown",
      "metadata": {
        "id": "rg_gtTIMdDcl"
      },
      "source": [
        "Split the input data, only data from 2021 is taken, also, select only the columns thar are useful for the classifier"
      ]
    },
    {
      "cell_type": "code",
      "execution_count": 4,
      "metadata": {
        "id": "vk7VTL8Nqp8W"
      },
      "outputs": [],
      "source": [
        "datacopy = data[(data['FECHA_INGRESO'] < '2022-01-01')  & (data['CLASIFICACION_FINAL'].between(1, 3))][['SEXO', 'TIPO_PACIENTE', 'EDAD', 'DIABETES', 'EPOC', 'ASMA', 'INMUSUPR', 'HIPERTENSION', 'OTRA_COM', 'CARDIOVASCULAR', 'OBESIDAD', 'RENAL_CRONICA', 'TABAQUISMO', 'FECHA_DEF']]"
      ]
    },
    {
      "cell_type": "code",
      "execution_count": 5,
      "metadata": {
        "colab": {
          "base_uri": "https://localhost:8080/",
          "height": 661
        },
        "id": "mUm9zYbpGz8A",
        "outputId": "21a02ea1-4783-4873-b92e-74b5895ae27b"
      },
      "outputs": [
        {
          "data": {
            "text/html": [
              "<div>\n",
              "<style scoped>\n",
              "    .dataframe tbody tr th:only-of-type {\n",
              "        vertical-align: middle;\n",
              "    }\n",
              "\n",
              "    .dataframe tbody tr th {\n",
              "        vertical-align: top;\n",
              "    }\n",
              "\n",
              "    .dataframe thead th {\n",
              "        text-align: right;\n",
              "    }\n",
              "</style>\n",
              "<table border=\"1\" class=\"dataframe\">\n",
              "  <thead>\n",
              "    <tr style=\"text-align: right;\">\n",
              "      <th></th>\n",
              "      <th>SEXO</th>\n",
              "      <th>TIPO_PACIENTE</th>\n",
              "      <th>EDAD</th>\n",
              "      <th>DIABETES</th>\n",
              "      <th>EPOC</th>\n",
              "      <th>ASMA</th>\n",
              "      <th>INMUSUPR</th>\n",
              "      <th>HIPERTENSION</th>\n",
              "      <th>OTRA_COM</th>\n",
              "      <th>CARDIOVASCULAR</th>\n",
              "      <th>OBESIDAD</th>\n",
              "      <th>RENAL_CRONICA</th>\n",
              "      <th>TABAQUISMO</th>\n",
              "      <th>FECHA_DEF</th>\n",
              "    </tr>\n",
              "  </thead>\n",
              "  <tbody>\n",
              "    <tr>\n",
              "      <th>6</th>\n",
              "      <td>1</td>\n",
              "      <td>1</td>\n",
              "      <td>36</td>\n",
              "      <td>1</td>\n",
              "      <td>2</td>\n",
              "      <td>2</td>\n",
              "      <td>2</td>\n",
              "      <td>2</td>\n",
              "      <td>2</td>\n",
              "      <td>2</td>\n",
              "      <td>2</td>\n",
              "      <td>2</td>\n",
              "      <td>2</td>\n",
              "      <td>9999-99-99</td>\n",
              "    </tr>\n",
              "    <tr>\n",
              "      <th>10</th>\n",
              "      <td>1</td>\n",
              "      <td>1</td>\n",
              "      <td>63</td>\n",
              "      <td>2</td>\n",
              "      <td>2</td>\n",
              "      <td>1</td>\n",
              "      <td>2</td>\n",
              "      <td>2</td>\n",
              "      <td>1</td>\n",
              "      <td>1</td>\n",
              "      <td>2</td>\n",
              "      <td>2</td>\n",
              "      <td>2</td>\n",
              "      <td>9999-99-99</td>\n",
              "    </tr>\n",
              "    <tr>\n",
              "      <th>16</th>\n",
              "      <td>1</td>\n",
              "      <td>1</td>\n",
              "      <td>18</td>\n",
              "      <td>2</td>\n",
              "      <td>2</td>\n",
              "      <td>2</td>\n",
              "      <td>2</td>\n",
              "      <td>2</td>\n",
              "      <td>2</td>\n",
              "      <td>2</td>\n",
              "      <td>2</td>\n",
              "      <td>2</td>\n",
              "      <td>2</td>\n",
              "      <td>9999-99-99</td>\n",
              "    </tr>\n",
              "    <tr>\n",
              "      <th>57</th>\n",
              "      <td>1</td>\n",
              "      <td>1</td>\n",
              "      <td>44</td>\n",
              "      <td>2</td>\n",
              "      <td>2</td>\n",
              "      <td>2</td>\n",
              "      <td>2</td>\n",
              "      <td>1</td>\n",
              "      <td>2</td>\n",
              "      <td>2</td>\n",
              "      <td>1</td>\n",
              "      <td>2</td>\n",
              "      <td>2</td>\n",
              "      <td>9999-99-99</td>\n",
              "    </tr>\n",
              "    <tr>\n",
              "      <th>63</th>\n",
              "      <td>1</td>\n",
              "      <td>1</td>\n",
              "      <td>61</td>\n",
              "      <td>1</td>\n",
              "      <td>2</td>\n",
              "      <td>2</td>\n",
              "      <td>2</td>\n",
              "      <td>2</td>\n",
              "      <td>2</td>\n",
              "      <td>2</td>\n",
              "      <td>2</td>\n",
              "      <td>2</td>\n",
              "      <td>2</td>\n",
              "      <td>9999-99-99</td>\n",
              "    </tr>\n",
              "    <tr>\n",
              "      <th>...</th>\n",
              "      <td>...</td>\n",
              "      <td>...</td>\n",
              "      <td>...</td>\n",
              "      <td>...</td>\n",
              "      <td>...</td>\n",
              "      <td>...</td>\n",
              "      <td>...</td>\n",
              "      <td>...</td>\n",
              "      <td>...</td>\n",
              "      <td>...</td>\n",
              "      <td>...</td>\n",
              "      <td>...</td>\n",
              "      <td>...</td>\n",
              "      <td>...</td>\n",
              "    </tr>\n",
              "    <tr>\n",
              "      <th>8830180</th>\n",
              "      <td>1</td>\n",
              "      <td>1</td>\n",
              "      <td>22</td>\n",
              "      <td>2</td>\n",
              "      <td>2</td>\n",
              "      <td>2</td>\n",
              "      <td>2</td>\n",
              "      <td>2</td>\n",
              "      <td>98</td>\n",
              "      <td>2</td>\n",
              "      <td>2</td>\n",
              "      <td>2</td>\n",
              "      <td>2</td>\n",
              "      <td>9999-99-99</td>\n",
              "    </tr>\n",
              "    <tr>\n",
              "      <th>8830182</th>\n",
              "      <td>1</td>\n",
              "      <td>1</td>\n",
              "      <td>21</td>\n",
              "      <td>2</td>\n",
              "      <td>2</td>\n",
              "      <td>2</td>\n",
              "      <td>2</td>\n",
              "      <td>2</td>\n",
              "      <td>98</td>\n",
              "      <td>2</td>\n",
              "      <td>2</td>\n",
              "      <td>2</td>\n",
              "      <td>2</td>\n",
              "      <td>9999-99-99</td>\n",
              "    </tr>\n",
              "    <tr>\n",
              "      <th>8830186</th>\n",
              "      <td>1</td>\n",
              "      <td>1</td>\n",
              "      <td>18</td>\n",
              "      <td>2</td>\n",
              "      <td>2</td>\n",
              "      <td>2</td>\n",
              "      <td>2</td>\n",
              "      <td>2</td>\n",
              "      <td>98</td>\n",
              "      <td>2</td>\n",
              "      <td>2</td>\n",
              "      <td>2</td>\n",
              "      <td>2</td>\n",
              "      <td>9999-99-99</td>\n",
              "    </tr>\n",
              "    <tr>\n",
              "      <th>8830205</th>\n",
              "      <td>2</td>\n",
              "      <td>1</td>\n",
              "      <td>31</td>\n",
              "      <td>2</td>\n",
              "      <td>2</td>\n",
              "      <td>2</td>\n",
              "      <td>2</td>\n",
              "      <td>2</td>\n",
              "      <td>98</td>\n",
              "      <td>2</td>\n",
              "      <td>2</td>\n",
              "      <td>2</td>\n",
              "      <td>2</td>\n",
              "      <td>9999-99-99</td>\n",
              "    </tr>\n",
              "    <tr>\n",
              "      <th>8830208</th>\n",
              "      <td>2</td>\n",
              "      <td>1</td>\n",
              "      <td>67</td>\n",
              "      <td>2</td>\n",
              "      <td>2</td>\n",
              "      <td>2</td>\n",
              "      <td>2</td>\n",
              "      <td>2</td>\n",
              "      <td>98</td>\n",
              "      <td>2</td>\n",
              "      <td>2</td>\n",
              "      <td>2</td>\n",
              "      <td>2</td>\n",
              "      <td>9999-99-99</td>\n",
              "    </tr>\n",
              "  </tbody>\n",
              "</table>\n",
              "<p>2495764 rows × 14 columns</p>\n",
              "</div>"
            ],
            "text/plain": [
              "         SEXO  TIPO_PACIENTE  EDAD  DIABETES  EPOC  ASMA  INMUSUPR   \n",
              "6           1              1    36         1     2     2         2  \\\n",
              "10          1              1    63         2     2     1         2   \n",
              "16          1              1    18         2     2     2         2   \n",
              "57          1              1    44         2     2     2         2   \n",
              "63          1              1    61         1     2     2         2   \n",
              "...       ...            ...   ...       ...   ...   ...       ...   \n",
              "8830180     1              1    22         2     2     2         2   \n",
              "8830182     1              1    21         2     2     2         2   \n",
              "8830186     1              1    18         2     2     2         2   \n",
              "8830205     2              1    31         2     2     2         2   \n",
              "8830208     2              1    67         2     2     2         2   \n",
              "\n",
              "         HIPERTENSION  OTRA_COM  CARDIOVASCULAR  OBESIDAD  RENAL_CRONICA   \n",
              "6                   2         2               2         2              2  \\\n",
              "10                  2         1               1         2              2   \n",
              "16                  2         2               2         2              2   \n",
              "57                  1         2               2         1              2   \n",
              "63                  2         2               2         2              2   \n",
              "...               ...       ...             ...       ...            ...   \n",
              "8830180             2        98               2         2              2   \n",
              "8830182             2        98               2         2              2   \n",
              "8830186             2        98               2         2              2   \n",
              "8830205             2        98               2         2              2   \n",
              "8830208             2        98               2         2              2   \n",
              "\n",
              "         TABAQUISMO   FECHA_DEF  \n",
              "6                 2  9999-99-99  \n",
              "10                2  9999-99-99  \n",
              "16                2  9999-99-99  \n",
              "57                2  9999-99-99  \n",
              "63                2  9999-99-99  \n",
              "...             ...         ...  \n",
              "8830180           2  9999-99-99  \n",
              "8830182           2  9999-99-99  \n",
              "8830186           2  9999-99-99  \n",
              "8830205           2  9999-99-99  \n",
              "8830208           2  9999-99-99  \n",
              "\n",
              "[2495764 rows x 14 columns]"
            ]
          },
          "execution_count": 5,
          "metadata": {},
          "output_type": "execute_result"
        }
      ],
      "source": [
        "datacopy"
      ]
    },
    {
      "attachments": {},
      "cell_type": "markdown",
      "metadata": {
        "id": "LG3EuuFHdamb"
      },
      "source": [
        "The date is replaced for a bool that tells if the patient survived"
      ]
    },
    {
      "cell_type": "code",
      "execution_count": 6,
      "metadata": {
        "id": "JdhmXR9M1tnS"
      },
      "outputs": [],
      "source": [
        "datacopy['FECHA_DEF'] = np.where(datacopy['FECHA_DEF'] == \"9999-99-99\", 1, 0)\n",
        "\n",
        "datacopy = datacopy.drop(datacopy[(datacopy['SEXO'] == 99) | (datacopy['TIPO_PACIENTE'] == 99) |\n",
        "                                  (datacopy['DIABETES'] != 1 ) & (datacopy['DIABETES'] != 2 ) |\n",
        "                                  (datacopy['EPOC'] != 1 ) & (datacopy['EPOC'] != 2 ) |\n",
        "                                  (datacopy['ASMA'] != 1 ) & (datacopy['ASMA'] != 2 ) |\n",
        "                                  (datacopy['INMUSUPR'] != 1 ) & (datacopy['INMUSUPR'] != 2 ) |\n",
        "                                  (datacopy['HIPERTENSION'] != 1 ) & (datacopy['HIPERTENSION'] != 2 ) |\n",
        "                                  (datacopy['OTRA_COM'] != 1 ) & (datacopy['OTRA_COM'] != 2 ) |\n",
        "                                  (datacopy['CARDIOVASCULAR'] != 1 ) & (datacopy['CARDIOVASCULAR'] != 2 ) |\n",
        "                                  (datacopy['OBESIDAD'] != 1 ) & (datacopy['OBESIDAD'] != 2 ) |\n",
        "                                  (datacopy['RENAL_CRONICA'] != 1 ) & (datacopy['RENAL_CRONICA'] != 2 ) |\n",
        "                                  (datacopy['TABAQUISMO'] != 1 ) & (datacopy['TABAQUISMO'] != 2 )].index)\n",
        "\n",
        "datacopy.rename(columns={'FECHA_DEF': 'SOBREVIVIO'}, inplace=True)"
      ]
    },
    {
      "cell_type": "code",
      "execution_count": null,
      "metadata": {},
      "outputs": [],
      "source": []
    },
    {
      "cell_type": "code",
      "execution_count": 7,
      "metadata": {},
      "outputs": [
        {
          "data": {
            "text/plain": [
              "7648152    100\n",
              "6885999    100\n",
              "6698733    100\n",
              "2432320    100\n",
              "2003184    100\n",
              "          ... \n",
              "1404132    121\n",
              "2051964    121\n",
              "2004104    121\n",
              "957126     121\n",
              "5273124    121\n",
              "Name: EDAD, Length: 500, dtype: int64"
            ]
          },
          "execution_count": 7,
          "metadata": {},
          "output_type": "execute_result"
        }
      ],
      "source": [
        "col = 'EDAD'\n",
        "datacopy.sort_values(col)[col].tail(500)"
      ]
    },
    {
      "attachments": {},
      "cell_type": "markdown",
      "metadata": {
        "id": "SV7rSlc_d9s8"
      },
      "source": [
        "Data info, the number of colums will be used to limit the decision tree depth"
      ]
    },
    {
      "cell_type": "code",
      "execution_count": 8,
      "metadata": {
        "colab": {
          "base_uri": "https://localhost:8080/"
        },
        "id": "TAdZ6oqGMS0S",
        "outputId": "672fdacf-4f6c-4096-f9d2-a9250127e98e"
      },
      "outputs": [
        {
          "name": "stdout",
          "output_type": "stream",
          "text": [
            "<class 'pandas.core.frame.DataFrame'>\n",
            "Index: 2470794 entries, 6 to 8708284\n",
            "Data columns (total 14 columns):\n",
            " #   Column          Dtype\n",
            "---  ------          -----\n",
            " 0   SEXO            int64\n",
            " 1   TIPO_PACIENTE   int64\n",
            " 2   EDAD            int64\n",
            " 3   DIABETES        int64\n",
            " 4   EPOC            int64\n",
            " 5   ASMA            int64\n",
            " 6   INMUSUPR        int64\n",
            " 7   HIPERTENSION    int64\n",
            " 8   OTRA_COM        int64\n",
            " 9   CARDIOVASCULAR  int64\n",
            " 10  OBESIDAD        int64\n",
            " 11  RENAL_CRONICA   int64\n",
            " 12  TABAQUISMO      int64\n",
            " 13  SOBREVIVIO      int32\n",
            "dtypes: int32(1), int64(13)\n",
            "memory usage: 273.3 MB\n"
          ]
        }
      ],
      "source": [
        "datacopy.info()"
      ]
    },
    {
      "attachments": {},
      "cell_type": "markdown",
      "metadata": {
        "id": "MpqmFFDfeMyB"
      },
      "source": [
        "## Classifier"
      ]
    },
    {
      "attachments": {},
      "cell_type": "markdown",
      "metadata": {
        "id": "5tSJpjeteJap"
      },
      "source": [
        "Define the features"
      ]
    },
    {
      "cell_type": "code",
      "execution_count": 9,
      "metadata": {
        "id": "p5VtUuHo6px_"
      },
      "outputs": [],
      "source": [
        "features = ['SEXO', 'TIPO_PACIENTE', 'EDAD', 'DIABETES', 'EPOC', 'ASMA', 'INMUSUPR', 'HIPERTENSION', 'OTRA_COM', 'CARDIOVASCULAR', 'OBESIDAD', 'RENAL_CRONICA', 'TABAQUISMO']"
      ]
    },
    {
      "attachments": {},
      "cell_type": "markdown",
      "metadata": {
        "id": "fBuoEso2eQ7Y"
      },
      "source": [
        "Set the X and Y axes used to train the classifier"
      ]
    },
    {
      "cell_type": "code",
      "execution_count": 10,
      "metadata": {
        "id": "bH014U8o57nv"
      },
      "outputs": [],
      "source": [
        "X = datacopy[features]\n",
        "Y = datacopy['SOBREVIVIO']"
      ]
    },
    {
      "attachments": {},
      "cell_type": "markdown",
      "metadata": {
        "id": "FSmuTHDfeyFR"
      },
      "source": [
        "Split the data"
      ]
    },
    {
      "cell_type": "code",
      "execution_count": 11,
      "metadata": {
        "id": "jihb1NC69Uic"
      },
      "outputs": [],
      "source": [
        "X_train, X_test, Y_train, Y_test = train_test_split(X, Y, test_size=0.3, random_state=42)"
      ]
    },
    {
      "attachments": {},
      "cell_type": "markdown",
      "metadata": {
        "id": "XvAqocoVe1sA"
      },
      "source": [
        "Fit the classifier (Training)"
      ]
    },
    {
      "cell_type": "code",
      "execution_count": 12,
      "metadata": {
        "colab": {
          "base_uri": "https://localhost:8080/",
          "height": 75
        },
        "id": "Ow2WUcNH6Hfr",
        "outputId": "995b2a4a-f3f0-4e5d-b2c6-d410da964daf"
      },
      "outputs": [
        {
          "data": {
            "text/html": [
              "<style>#sk-container-id-1 {color: black;background-color: white;}#sk-container-id-1 pre{padding: 0;}#sk-container-id-1 div.sk-toggleable {background-color: white;}#sk-container-id-1 label.sk-toggleable__label {cursor: pointer;display: block;width: 100%;margin-bottom: 0;padding: 0.3em;box-sizing: border-box;text-align: center;}#sk-container-id-1 label.sk-toggleable__label-arrow:before {content: \"▸\";float: left;margin-right: 0.25em;color: #696969;}#sk-container-id-1 label.sk-toggleable__label-arrow:hover:before {color: black;}#sk-container-id-1 div.sk-estimator:hover label.sk-toggleable__label-arrow:before {color: black;}#sk-container-id-1 div.sk-toggleable__content {max-height: 0;max-width: 0;overflow: hidden;text-align: left;background-color: #f0f8ff;}#sk-container-id-1 div.sk-toggleable__content pre {margin: 0.2em;color: black;border-radius: 0.25em;background-color: #f0f8ff;}#sk-container-id-1 input.sk-toggleable__control:checked~div.sk-toggleable__content {max-height: 200px;max-width: 100%;overflow: auto;}#sk-container-id-1 input.sk-toggleable__control:checked~label.sk-toggleable__label-arrow:before {content: \"▾\";}#sk-container-id-1 div.sk-estimator input.sk-toggleable__control:checked~label.sk-toggleable__label {background-color: #d4ebff;}#sk-container-id-1 div.sk-label input.sk-toggleable__control:checked~label.sk-toggleable__label {background-color: #d4ebff;}#sk-container-id-1 input.sk-hidden--visually {border: 0;clip: rect(1px 1px 1px 1px);clip: rect(1px, 1px, 1px, 1px);height: 1px;margin: -1px;overflow: hidden;padding: 0;position: absolute;width: 1px;}#sk-container-id-1 div.sk-estimator {font-family: monospace;background-color: #f0f8ff;border: 1px dotted black;border-radius: 0.25em;box-sizing: border-box;margin-bottom: 0.5em;}#sk-container-id-1 div.sk-estimator:hover {background-color: #d4ebff;}#sk-container-id-1 div.sk-parallel-item::after {content: \"\";width: 100%;border-bottom: 1px solid gray;flex-grow: 1;}#sk-container-id-1 div.sk-label:hover label.sk-toggleable__label {background-color: #d4ebff;}#sk-container-id-1 div.sk-serial::before {content: \"\";position: absolute;border-left: 1px solid gray;box-sizing: border-box;top: 0;bottom: 0;left: 50%;z-index: 0;}#sk-container-id-1 div.sk-serial {display: flex;flex-direction: column;align-items: center;background-color: white;padding-right: 0.2em;padding-left: 0.2em;position: relative;}#sk-container-id-1 div.sk-item {position: relative;z-index: 1;}#sk-container-id-1 div.sk-parallel {display: flex;align-items: stretch;justify-content: center;background-color: white;position: relative;}#sk-container-id-1 div.sk-item::before, #sk-container-id-1 div.sk-parallel-item::before {content: \"\";position: absolute;border-left: 1px solid gray;box-sizing: border-box;top: 0;bottom: 0;left: 50%;z-index: -1;}#sk-container-id-1 div.sk-parallel-item {display: flex;flex-direction: column;z-index: 1;position: relative;background-color: white;}#sk-container-id-1 div.sk-parallel-item:first-child::after {align-self: flex-end;width: 50%;}#sk-container-id-1 div.sk-parallel-item:last-child::after {align-self: flex-start;width: 50%;}#sk-container-id-1 div.sk-parallel-item:only-child::after {width: 0;}#sk-container-id-1 div.sk-dashed-wrapped {border: 1px dashed gray;margin: 0 0.4em 0.5em 0.4em;box-sizing: border-box;padding-bottom: 0.4em;background-color: white;}#sk-container-id-1 div.sk-label label {font-family: monospace;font-weight: bold;display: inline-block;line-height: 1.2em;}#sk-container-id-1 div.sk-label-container {text-align: center;}#sk-container-id-1 div.sk-container {/* jupyter's `normalize.less` sets `[hidden] { display: none; }` but bootstrap.min.css set `[hidden] { display: none !important; }` so we also need the `!important` here to be able to override the default hidden behavior on the sphinx rendered scikit-learn.org. See: https://github.com/scikit-learn/scikit-learn/issues/21755 */display: inline-block !important;position: relative;}#sk-container-id-1 div.sk-text-repr-fallback {display: none;}</style><div id=\"sk-container-id-1\" class=\"sk-top-container\"><div class=\"sk-text-repr-fallback\"><pre>DecisionTreeClassifier(max_leaf_nodes=30, random_state=42)</pre><b>In a Jupyter environment, please rerun this cell to show the HTML representation or trust the notebook. <br />On GitHub, the HTML representation is unable to render, please try loading this page with nbviewer.org.</b></div><div class=\"sk-container\" hidden><div class=\"sk-item\"><div class=\"sk-estimator sk-toggleable\"><input class=\"sk-toggleable__control sk-hidden--visually\" id=\"sk-estimator-id-1\" type=\"checkbox\" checked><label for=\"sk-estimator-id-1\" class=\"sk-toggleable__label sk-toggleable__label-arrow\">DecisionTreeClassifier</label><div class=\"sk-toggleable__content\"><pre>DecisionTreeClassifier(max_leaf_nodes=30, random_state=42)</pre></div></div></div></div></div>"
            ],
            "text/plain": [
              "DecisionTreeClassifier(max_leaf_nodes=30, random_state=42)"
            ]
          },
          "execution_count": 12,
          "metadata": {},
          "output_type": "execute_result"
        }
      ],
      "source": [
        "decisionTree = tree.DecisionTreeClassifier(max_leaf_nodes=30 ,random_state=42)\n",
        "decisionTree.fit(X_train, Y_train)"
      ]
    },
    {
      "cell_type": "code",
      "execution_count": 13,
      "metadata": {
        "id": "L9m_CzTI9ov7"
      },
      "outputs": [],
      "source": [
        "Y_pred = decisionTree.predict(X_test)"
      ]
    },
    {
      "attachments": {},
      "cell_type": "markdown",
      "metadata": {
        "id": "cROPOHRBe-EX"
      },
      "source": [
        "## Classifier results"
      ]
    },
    {
      "cell_type": "code",
      "execution_count": 14,
      "metadata": {
        "colab": {
          "base_uri": "https://localhost:8080/"
        },
        "id": "QwZ7a6db9DmF",
        "outputId": "0fffbe25-a91a-40f8-d061-a19888025082"
      },
      "outputs": [
        {
          "data": {
            "text/plain": [
              "0.9564013766140206"
            ]
          },
          "execution_count": 14,
          "metadata": {},
          "output_type": "execute_result"
        }
      ],
      "source": [
        "decisionTree.score(X_test,Y_test)"
      ]
    },
    {
      "cell_type": "code",
      "execution_count": 19,
      "metadata": {
        "colab": {
          "base_uri": "https://localhost:8080/",
          "height": 466
        },
        "id": "ByrsjrHTAzIR",
        "outputId": "79ab335a-51dd-4669-ec4f-7b2548898e24"
      },
      "outputs": [
        {
          "data": {
            "text/plain": [
              "<sklearn.metrics._plot.confusion_matrix.ConfusionMatrixDisplay at 0x24b00b0a390>"
            ]
          },
          "execution_count": 19,
          "metadata": {},
          "output_type": "execute_result"
        },
        {
          "data": {
            "image/png": "[encoded data removed]",
            "text/plain": [
              "<Figure size 640x480 with 2 Axes>"
            ]
          },
          "metadata": {},
          "output_type": "display_data"
        }
      ],
      "source": [
        "cm = confusion_matrix(Y_test, Y_pred)\n",
        "ConfusionMatrixDisplay(cm).plot()"
      ]
    },
    {
      "cell_type": "code",
      "execution_count": 23,
      "metadata": {
        "colab": {
          "base_uri": "https://localhost:8080/"
        },
        "id": "94UqnM8CXH-k",
        "outputId": "6c473364-bd64-4bb1-ec14-b022be281d59"
      },
      "outputs": [
        {
          "name": "stdout",
          "output_type": "stream",
          "text": [
            "Accuracy: 0.9564 = 95.64%\n",
            "Precision: 0.9811 = 98.11%\n",
            "Recall: 0.9725 = 97.25%\n",
            "F1: 0.9768 = 97.68%\n"
          ]
        }
      ],
      "source": [
        "tN = cm[0][0]\n",
        "tP = cm[1][1]\n",
        "fN = cm[1][0]\n",
        "fP = cm[0][1]\n",
        "\n",
        "# Accuracy (Exactitud)\n",
        "# (TN+TP)/(TN+TP+FN+FP)\n",
        "accuracy = (tN + tP) / (tN + tP + fN + fP)\n",
        "print(\"Accuracy: \" + str(round(accuracy, ndigits=4)) + \" = \" + str(round(accuracy*100, ndigits=2)) + \"%\")\n",
        "\n",
        "# Precision (Calidad) \n",
        "# TP/(TP+FP)\n",
        "precision = tP / (tP + fP)\n",
        "print(\"Precision: \" + str(round(precision, ndigits=4)) + \" = \" + str(round(precision*100, ndigits=2)) + \"%\")\n",
        "\n",
        "# Recall (Sensibilidad)\n",
        "# TP/(TP+FN)\n",
        "recall = tP / (tP + fN)\n",
        "print(\"Recall: \" + str(round(recall, ndigits=4)) + \" = \" + str(round(recall*100, ndigits=2)) + \"%\")\n",
        "\n",
        "# Solo para matriz de confusión 2x2\n",
        "# F1 = 2 * ((PRECISION * RECALL)/(PRECISION + RECALL))\n",
        "f1 = 2 * ((precision * recall) / (precision + recall))\n",
        "print(\"F1: \" + str(round(f1, ndigits=4)) + \" = \" + str(round(f1*100, ndigits=2)) + \"%\")"
      ]
    },
    {
      "attachments": {},
      "cell_type": "markdown",
      "metadata": {
        "id": "f00TsuXmfWf9"
      },
      "source": [
        "## Decision tree graph"
      ]
    },
    {
      "attachments": {},
      "cell_type": "markdown",
      "metadata": {
        "id": "NzAlTgM_fdDw"
      },
      "source": [
        "Generate graph"
      ]
    },
    {
      "cell_type": "code",
      "execution_count": 24,
      "metadata": {
        "id": "SJC-Te1cER4D"
      },
      "outputs": [],
      "source": [
        "import graphviz \n",
        "dot_data = tree.export_graphviz(decisionTree, out_file=None, class_names= ['Sobrevivio', 'No Sobrevivio'], feature_names=features, filled=True, rounded=True, special_characters=True)\n",
        "graph = graphviz.Source(dot_data)"
      ]
    },
    {
      "attachments": {},
      "cell_type": "markdown",
      "metadata": {
        "id": "jwvxvEUifg1r"
      },
      "source": [
        "Export graph to PDF"
      ]
    },
    {
      "cell_type": "code",
      "execution_count": 25,
      "metadata": {
        "colab": {
          "base_uri": "https://localhost:8080/",
          "height": 35
        },
        "id": "kHV-EDOMSKqM",
        "outputId": "7772989c-870a-467b-e6eb-4772665a7b79"
      },
      "outputs": [
        {
          "data": {
            "text/plain": [
              "'C19_DecisionTree.pdf'"
            ]
          },
          "execution_count": 25,
          "metadata": {},
          "output_type": "execute_result"
        }
      ],
      "source": [
        "graph.render(\"C19_DecisionTree\")"
      ]
    }
  ],
  "metadata": {
    "colab": {
      "provenance": []
    },
    "kernelspec": {
      "display_name": "Python 3",
      "name": "python3"
    },
    "language_info": {
      "codemirror_mode": {
        "name": "ipython",
        "version": 3
      },
      "file_extension": ".py",
      "mimetype": "text/x-python",
      "name": "python",
      "nbconvert_exporter": "python",
      "pygments_lexer": "ipython3",
      "version": "3.11.2"
    }
  },
  "nbformat": 4,
  "nbformat_minor": 0
}
